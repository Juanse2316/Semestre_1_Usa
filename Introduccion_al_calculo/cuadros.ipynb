{
 "cells": [
  {
   "cell_type": "code",
   "execution_count": 10,
   "id": "7f5f49f3",
   "metadata": {},
   "outputs": [],
   "source": [
    "from typing import Dict, Tuple, List\n",
    "import numpy as np\n",
    "import matplotlib.pyplot as plt\n",
    "\n",
    "# Type aliases\n",
    "Coord = Tuple[int, int]        # (row, col)\n",
    "Params = Tuple[float, float, float]  # (x, y, z)"
   ]
  },
  {
   "cell_type": "code",
   "execution_count": 11,
   "id": "4c7ecff6",
   "metadata": {},
   "outputs": [],
   "source": [
    "COEFFS: Dict[Coord, Tuple[int, int, int]] = {\n",
    "    (0,0): ( 1,  0,  0),\n",
    "    (0,1): ( 0,  1,  0),\n",
    "    (0,2): (-1, -1,  3),\n",
    "    (1,0): (-2, -1,  4),\n",
    "    (1,1): ( 0,  0,  1),\n",
    "    (1,2): ( 2,  1, -2),\n",
    "    (2,0): ( 1,  1, -1),\n",
    "    (2,1): ( 0, -1,  2),\n",
    "    (2,2): (-1,  0,  2),\n",
    "}"
   ]
  },
  {
   "cell_type": "code",
   "execution_count": 21,
   "id": "87bd335c",
   "metadata": {},
   "outputs": [],
   "source": [
    "def square_from_params(x: float, y: float, z: float) -> np.ndarray:\n",
    "    S = np.zeros((3,3), dtype=float)\n",
    "    for (r,c), (cx, cy, cz) in COEFFS.items():\n",
    "        S[r, c] = cx*x + cy*y + cz*z\n",
    "    return S\n",
    "\n",
    "def build_C_v(constraints: Dict[Coord, float]) -> Tuple[np.ndarray, np.ndarray, List[Coord]]:\n",
    "    Cs, vs, order = [], [], []\n",
    "    for pos, val in constraints.items():\n",
    "        cx, cy, cz = COEFFS[pos]\n",
    "        Cs.append([cx, cy, cz])\n",
    "        vs.append(val)\n",
    "        order.append(pos)\n",
    "    C = np.array(Cs, dtype=float)\n",
    "    v = np.array(vs, dtype=float)\n",
    "    return C, v, order\n",
    "\n",
    "def plot_square(S: np.ndarray, title: str = \"Magic 3x3\") -> None:\n",
    "    fig, ax = plt.subplots(figsize=(4,4), dpi=140)\n",
    "    ax.set_xlim(0,3); ax.set_ylim(0,3)\n",
    "    ax.set_xticks(range(4)); ax.set_yticks(range(4)); ax.grid(True)\n",
    "    ax.invert_yaxis(); ax.set_xticklabels([]); ax.set_yticklabels([])\n",
    "    for r in range(3):\n",
    "        for c in range(3):\n",
    "            ax.text(c+0.5, r+0.5, f\"{S[r,c]:g}\", ha=\"center\", va=\"center\", fontsize=14)\n",
    "    ax.set_title(title)\n",
    "    plt.show()\n",
    "\n",
    "def plot_error(message: str) -> None:\n",
    "    fig, ax = plt.subplots(figsize=(5,3), dpi=140)\n",
    "    ax.axis('off')\n",
    "    ax.text(0.5, 0.5, f\"❌ {message}\", ha=\"center\", va=\"center\", fontsize=12, color=\"red\")\n",
    "    plt.show()\n",
    "\n",
    "def solve_magic3_exact(constraints: Dict[Coord, float], tol: float = 1e-9):\n",
    "    \"\"\"\n",
    "    Exact solver:\n",
    "      - Requires EXACTLY 3 constraints.\n",
    "      - Matrix must be invertible (constraints linearly independent).\n",
    "      - Solves C p = v with np.linalg.solve (no least squares).\n",
    "      - If anything fails, shows an error plot and returns None.\n",
    "    \"\"\"\n",
    "    m = len(constraints)\n",
    "    if m != 3:\n",
    "        plot_error(f\"Se requieren exactamente 3 datos. Recibidos: {m}.\")\n",
    "        return None\n",
    "\n",
    "    C, v, order = build_C_v(constraints)\n",
    "\n",
    "    # Check invertibility (rank 3)\n",
    "    # if np.linalg.matrix_rank(C) < 3:\n",
    "    #     plot_error(\"Los 3 datos no son independientes (matriz singular). Elige otras celdas.\")\n",
    "    #     return None\n",
    "\n",
    "    # Solve exactly\n",
    "    try:\n",
    "        p = np.linalg.solve(C, v)  # exact solution\n",
    "    except np.linalg.LinAlgError as e:\n",
    "        plot_error(f\"No se pudo resolver el sistema: {e}\")\n",
    "        return None\n",
    "\n",
    "    x, y, z = p.tolist()\n",
    "    S = square_from_params(x, y, z)\n",
    "\n",
    "    # Verify that the three constrained cells match exactly (within tol)\n",
    "    for (r, c), target in constraints.items():\n",
    "        if abs(S[r, c] - target) > tol:\n",
    "            plot_error(\"Inconsistencia detectada tras resolver (no coincide con los datos).\")\n",
    "            return None\n",
    "\n",
    "    # All good → plot result\n",
    "    M = 3*z\n",
    "    plot_square(S, title=f\"Magic 3x3 exacto (M={M:g})\")\n",
    "    return S, (x, y, z), M"
   ]
  },
  {
   "cell_type": "code",
   "execution_count": 22,
   "id": "8a52ebd0",
   "metadata": {},
   "outputs": [
    {
     "data": {
      "image/png": "[encoded data removed]",
      "text/plain": [
       "<Figure size 700x420 with 1 Axes>"
      ]
     },
     "metadata": {},
     "output_type": "display_data"
    }
   ],
   "source": [
    "constraints_singular = {(0,0): 1, (2,2): 2, (1,1): 1}  # Puede o no ser singular según valores; probamos.\n",
    "solve_magic3_exact(constraints_singular)"
   ]
  }
 ],
 "metadata": {
  "kernelspec": {
   "display_name": "base",
   "language": "python",
   "name": "python3"
  },
  "language_info": {
   "codemirror_mode": {
    "name": "ipython",
    "version": 3
   },
   "file_extension": ".py",
   "mimetype": "text/x-python",
   "name": "python",
   "nbconvert_exporter": "python",
   "pygments_lexer": "ipython3",
   "version": "3.12.9"
  }
 },
 "nbformat": 4,
 "nbformat_minor": 5
}
